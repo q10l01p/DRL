{
 "cells": [
  {
   "cell_type": "code",
   "execution_count": null,
   "id": "d290db16-1814-4488-b208-f19f958cf441",
   "metadata": {},
   "outputs": [],
   "source": []
  },
  {
   "cell_type": "code",
   "execution_count": 1,
   "id": "b2bee375-c39f-4267-9c3c-65a7638132c7",
   "metadata": {},
   "outputs": [
    {
     "ename": "NameError",
     "evalue": "name 'plt' is not defined",
     "output_type": "error",
     "traceback": [
      "\u001b[0;31m---------------------------------------------------------------------------\u001b[0m",
      "\u001b[0;31mNameError\u001b[0m                                 Traceback (most recent call last)",
      "Cell \u001b[0;32mIn[1], line 1\u001b[0m\n\u001b[0;32m----> 1\u001b[0m fig, ax1 \u001b[38;5;241m=\u001b[39m \u001b[43mplt\u001b[49m\u001b[38;5;241m.\u001b[39msubplots(\u001b[38;5;241m1\u001b[39m, \u001b[38;5;241m1\u001b[39m)    \u001b[38;5;66;03m# a figure with a 2x1 grid of Axes\u001b[39;00m\n\u001b[1;32m      2\u001b[0m len_mean \u001b[38;5;241m=\u001b[39m pd\u001b[38;5;241m.\u001b[39mread_csv(\u001b[38;5;124m\"\u001b[39m\u001b[38;5;124mrun-PPO_2-tag-rollout_ep_len_mean.csv\u001b[39m\u001b[38;5;124m\"\u001b[39m)\n\u001b[1;32m      3\u001b[0m ax1\u001b[38;5;241m.\u001b[39mplot(len_mean[\u001b[38;5;124m'\u001b[39m\u001b[38;5;124mStep\u001b[39m\u001b[38;5;124m'\u001b[39m], tensorboard_smoothing(len_mean[\u001b[38;5;124m'\u001b[39m\u001b[38;5;124mValue\u001b[39m\u001b[38;5;124m'\u001b[39m], smooth\u001b[38;5;241m=\u001b[39m\u001b[38;5;241m0.6\u001b[39m), color\u001b[38;5;241m=\u001b[39m\u001b[38;5;124m\"\u001b[39m\u001b[38;5;124m#3399FF\u001b[39m\u001b[38;5;124m\"\u001b[39m)\n",
      "\u001b[0;31mNameError\u001b[0m: name 'plt' is not defined"
     ]
    }
   ],
   "source": [
    "fig, ax1 = plt.subplots(1, 1)    # a figure with a 2x1 grid of Axes\n",
    "len_mean = pd.read_csv(\"run-PPO_2-tag-rollout_ep_len_mean.csv\")\n",
    "ax1.plot(len_mean['Step'], tensorboard_smoothing(len_mean['Value'], smooth=0.6), color=\"#3399FF\")\n",
    "#ax1.set_xticks(np.arange(0, 24, step=2))\n",
    "ax1.set_xlabel(\"timesteps\")\n",
    "ax1.set_ylabel(\"Average Episode Length(steps)\", color=\"#3399FF\")\n",
    "ax1.set_title(\"Average Episode Length\")\n",
    "plt.show()\n",
    "fig.savefig(fname='./figures/ep_len_mean'+'.pdf', format='pdf')"
   ]
  }
 ],
 "metadata": {
  "kernelspec": {
   "display_name": "DRL_3.11",
   "language": "python",
   "name": "drl_3.11"
  },
  "language_info": {
   "codemirror_mode": {
    "name": "ipython",
    "version": 3
   },
   "file_extension": ".py",
   "mimetype": "text/x-python",
   "name": "python",
   "nbconvert_exporter": "python",
   "pygments_lexer": "ipython3",
   "version": "3.11.5"
  }
 },
 "nbformat": 4,
 "nbformat_minor": 5
}
